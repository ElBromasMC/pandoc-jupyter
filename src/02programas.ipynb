{
 "cells": [
  {
   "cell_type": "markdown",
   "metadata": {},
   "source": [
    "\\newpage\n",
    "\n",
    "5. Realice un programa en Python que simule un evento que\n",
    "pueda suceder en la vida cotidiana.\n",
    "\n",
    "Simularé un gimnasio con 3 máquinas de correr **(\"semáforo\")**.\n",
    "De esta manera, solo 3 personas pueden usar las máquinas al mismo tiempo.\n",
    "Pero, antes de usar la máquina, cada cliente debe registrarse en un libro\n",
    "de registro, esta tarea solo puede ser realizada por una persona a la\n",
    "vez **(\"exclusión mutua\")**."
   ]
  },
  {
   "cell_type": "code",
   "execution_count": 7,
   "metadata": {},
   "outputs": [
    {
     "name": "stdout",
     "output_type": "stream",
     "text": [
      "Cliente 1 está registrándose.\n",
      "Cliente 1 terminó de registrarse.\n",
      "Cliente 1 empezó a usar una máquina.\n",
      "Cliente 2 está registrándose.\n",
      "Cliente 2 terminó de registrarse.\n",
      "Cliente 2 empezó a usar una máquina.\n",
      "Cliente 3 está registrándose.\n",
      "Cliente 3 terminó de registrarse.\n",
      "Cliente 3 empezó a usar una máquina.\n",
      "Cliente 4 está registrándose.\n",
      "Cliente 4 terminó de registrarse.\n",
      "Cliente 5 está registrándose.\n",
      "Cliente 1 terminó de usar una máquina.\n",
      "Cliente 4 empezó a usar una máquina.\n",
      "Cliente 5 terminó de registrarse.\n",
      "Cliente 6 está registrándose.\n",
      "Cliente 2 terminó de usar una máquina.\n",
      "Cliente 5 empezó a usar una máquina.\n",
      "Cliente 6 terminó de registrarse.\n",
      "Cliente 3 terminó de usar una máquina.\n",
      "Cliente 6 empezó a usar una máquina.\n",
      "Cliente 4 terminó de usar una máquina.\n",
      "Cliente 5 terminó de usar una máquina.\n",
      "Cliente 6 terminó de usar una máquina.\n",
      "El gimnasio ha cerrado.\n"
     ]
    }
   ],
   "source": [
    "import threading\n",
    "import time\n",
    "import random\n",
    "\n",
    "# Número de clientes\n",
    "n = 6\n",
    "\n",
    "# Semáforo que permite hasta 3 clientes usar las máquinas simultáneamente\n",
    "maquinas = threading.Semaphore(3)\n",
    "\n",
    "# Lock para el registro\n",
    "registro_lock = threading.Lock()\n",
    "\n",
    "def cliente(id):    \n",
    "    # Registrarse\n",
    "    with registro_lock:\n",
    "        print(f\"Cliente {id} está registrándose.\")\n",
    "        time.sleep(random.uniform(0.5, 1.5))  # Simula el tiempo de registro\n",
    "        print(f\"Cliente {id} terminó de registrarse.\")\n",
    "    \n",
    "    # Esperar a que una máquina esté disponible\n",
    "    with maquinas:\n",
    "        print(f\"Cliente {id} empezó a usar una máquina.\")\n",
    "        time.sleep(random.uniform(3, 4))  # Simula el tiempo de uso de la máquina\n",
    "        print(f\"Cliente {id} terminó de usar una máquina.\")\n",
    "\n",
    "# Creamos e iniciamos los hilos (clientes)\n",
    "hilos = []\n",
    "for i in range(n):\n",
    "    t = threading.Thread(target=cliente, args=(i+1,))\n",
    "    hilos.append(t)\n",
    "    t.start()\n",
    "\n",
    "# Esperamos a que todos los hilos terminen\n",
    "for t in hilos:\n",
    "    t.join()\n",
    "\n",
    "print(\"El gimnasio ha cerrado.\")"
   ]
  }
 ],
 "metadata": {
  "kernelspec": {
   "display_name": ".venv",
   "language": "python",
   "name": "python3"
  },
  "language_info": {
   "codemirror_mode": {
    "name": "ipython",
    "version": 3
   },
   "file_extension": ".py",
   "mimetype": "text/x-python",
   "name": "python",
   "nbconvert_exporter": "python",
   "pygments_lexer": "ipython3",
   "version": "3.12.6"
  }
 },
 "nbformat": 4,
 "nbformat_minor": 2
}
